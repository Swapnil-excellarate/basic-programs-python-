{
 "cells": [
  {
   "cell_type": "markdown",
   "id": "c8dd9d53",
   "metadata": {},
   "source": [
    "#### mutable (they can be changed), and tuples are immutable (they cannot be changed).\n",
    "- Let's try to understand this with an example.\n",
    "\n",
    "- you have given an immutalble string and you want to make changes to it.\n",
    "\n",
    "  Example :- string = 'abcdeadbacd'\n",
    "  \n",
    "  you can access an index by.\n",
    "  \n",
    "  print string[5]\n",
    "    \n",
    "  what if you would like to assign a value\n",
    "  \n",
    "  String[5]='K\n",
    "  \n",
    "  Traceback (most recent call last):\n",
    "  \n",
    "  File \"<stdin>\", line 1, in <module>\n",
    "  \n",
    "  TypeError: 'str' object does not support item assignment"
   ]
  },
  {
   "cell_type": "markdown",
   "id": "6fd9266b",
   "metadata": {},
   "source": [
    "- How would you approch this? \n",
    "  - One solution is to convert the string to a list and then change the value\n",
    "\n",
    "    String = 'abcdeadbacd'\n",
    "    \n",
    "    a = list(string)\n",
    "    \n",
    "    a[5]='k'\n",
    "    \n",
    "    string=''.join(a)\n",
    "    \n",
    "    print(string)"
   ]
  },
  {
   "cell_type": "code",
   "execution_count": 1,
   "id": "c9b2c11a",
   "metadata": {},
   "outputs": [
    {
     "name": "stdout",
     "output_type": "stream",
     "text": [
      "abcdadbcad\n",
      "5 k\n",
      "abcdakbcad\n"
     ]
    }
   ],
   "source": [
    "def mutate_string(string, position, character):\n",
    "    string1= list(string)\n",
    "    string1[position]= character\n",
    "    string=\"\".join(string1)\n",
    "    return string \n",
    "\n",
    "if __name__ == '__main__':\n",
    "    s = input()\n",
    "    i, c = input().split()\n",
    "    s_new = mutate_string(s, int(i), c)\n",
    "    print(s_new)"
   ]
  },
  {
   "cell_type": "code",
   "execution_count": null,
   "id": "00992e4f",
   "metadata": {},
   "outputs": [],
   "source": []
  },
  {
   "cell_type": "code",
   "execution_count": null,
   "id": "3d336b8b",
   "metadata": {},
   "outputs": [],
   "source": []
  }
 ],
 "metadata": {
  "kernelspec": {
   "display_name": "Python 3",
   "language": "python",
   "name": "python3"
  },
  "language_info": {
   "codemirror_mode": {
    "name": "ipython",
    "version": 3
   },
   "file_extension": ".py",
   "mimetype": "text/x-python",
   "name": "python",
   "nbconvert_exporter": "python",
   "pygments_lexer": "ipython3",
   "version": "3.8.5"
  }
 },
 "nbformat": 4,
 "nbformat_minor": 5
}
